{
 "cells": [
  {
   "cell_type": "code",
   "execution_count": 1,
   "metadata": {},
   "outputs": [
    {
     "name": "stderr",
     "output_type": "stream",
     "text": [
      "Using TensorFlow backend.\n"
     ]
    }
   ],
   "source": [
    "from functions import *\n",
    "from methods import *\n",
    "import seaborn as sns\n",
    "import matplotlib.pyplot as plt"
   ]
  },
  {
   "cell_type": "code",
   "execution_count": 2,
   "metadata": {},
   "outputs": [
    {
     "name": "stdout",
     "output_type": "stream",
     "text": [
      "WARNING:tensorflow:From /Users/irashokar/anaconda3/lib/python3.7/site-packages/keras/backend/tensorflow_backend.py:422: The name tf.global_variables is deprecated. Please use tf.compat.v1.global_variables instead.\n",
      "\n"
     ]
    }
   ],
   "source": [
    "path = '/Users/irashokar/documents/NOvA/files/Feb_test/Descr_5/'\n",
    "with open(path + 'history_SGD_5_descriminator_weights.pkl','rb') as f1:\n",
    "    history = pkl.load(f1)"
   ]
  },
  {
   "cell_type": "code",
   "execution_count": 3,
   "metadata": {},
   "outputs": [
    {
     "data": {
      "image/png": "[encoded data removed]",
      "text/plain": [
       "<Figure size 864x432 with 1 Axes>"
      ]
     },
     "metadata": {
      "needs_background": "light"
     },
     "output_type": "display_data"
    }
   ],
   "source": [
    "plt.figure(figsize=(12,6))\n",
    "plt.plot(history.history['accuracy'])\n",
    "plt.plot(history.history['val_accuracy'])\n",
    "plt.title('model accuracy gibuu and genie sgd')\n",
    "plt.ylabel('accuracy')\n",
    "plt.xlabel('epoch')\n",
    "plt.legend(['acc', 'val acc'], loc='lower left')\n",
    "plt.ylim(0,1)\n",
    "plt.show()"
   ]
  },
  {
   "cell_type": "code",
   "execution_count": 4,
   "metadata": {},
   "outputs": [
    {
     "data": {
      "image/png": "[encoded data removed]",
      "text/plain": [
       "<Figure size 864x432 with 1 Axes>"
      ]
     },
     "metadata": {
      "needs_background": "light"
     },
     "output_type": "display_data"
    }
   ],
   "source": [
    "plt.figure(figsize=(12,6))\n",
    "plt.plot(history.history['loss'])\n",
    "plt.plot(history.history['val_loss'])\n",
    "plt.title('model loss gibuu and genie sgd')\n",
    "plt.ylabel('loss')\n",
    "plt.xlabel('epoch')\n",
    "plt.legend(['loss', 'val loss'], loc='lower left')\n",
    "plt.ylim(0.1,1.)\n",
    "plt.show()"
   ]
  },
  {
   "cell_type": "code",
   "execution_count": 6,
   "metadata": {},
   "outputs": [
    {
     "name": "stdout",
     "output_type": "stream",
     "text": [
      "14624\n",
      "29288\n"
     ]
    }
   ],
   "source": [
    "path = '/Users/irashokar/documents/NOvA/files/Feb_test/Descr_5/'\n",
    "with open(path+ 'descr_probabilities_short_weights_SGD_5_descriminator_weights.pkl','rb') as f2:\n",
    "    probabilities = pkl.load(f2)\n",
    "print(len(probabilities))\n",
    "with open(path+ 'descr_test_labels_list_short_weights_SGD_5_descriminator_weights.pkl','rb') as f3:\n",
    "    test_labels = pkl.load(f3)\n",
    "print(len(test_labels))\n",
    "with open(path+ 'descr_test_weights_list_short_weights_SGD_5_descriminator_weights.pkl','rb') as f4:\n",
    "    gibuu_weights = pkl.load(f4)"
   ]
  },
  {
   "cell_type": "code",
   "execution_count": 7,
   "metadata": {},
   "outputs": [
    {
     "data": {
      "text/plain": [
       "array([[0.45071617, 0.54928386],\n",
       "       [0.53286344, 0.46713653],\n",
       "       [0.53278494, 0.4672151 ],\n",
       "       ...,\n",
       "       [0.25729054, 0.74270946],\n",
       "       [0.5073148 , 0.4926852 ],\n",
       "       [0.4282827 , 0.5717173 ]], dtype=float32)"
      ]
     },
     "execution_count": 7,
     "metadata": {},
     "output_type": "execute_result"
    }
   ],
   "source": [
    "probabilities[:-100]"
   ]
  },
  {
   "cell_type": "code",
   "execution_count": 8,
   "metadata": {},
   "outputs": [
    {
     "name": "stdout",
     "output_type": "stream",
     "text": [
      "Probabilities: \n",
      "\n",
      "Accuracy:0.21312482928161705 \n",
      "\n",
      "[0.45071617 0.54928386] \n",
      "\n",
      "[0.53286344 0.46713653] \n",
      "\n",
      "[0.53278494 0.4672151 ] \n",
      "\n",
      "[0.4414816  0.55851847] \n",
      "\n",
      "[0.5196613  0.48033866] \n",
      "\n",
      "[0.5000113  0.49998873] \n",
      "\n",
      "[0.46641454 0.5335855 ] \n",
      "\n",
      "[0.45330086 0.5466991 ] \n",
      "\n",
      "[0.50839 0.49161] \n",
      "\n",
      "[0.4288096  0.57119036] \n",
      "\n",
      "Predictions: \n",
      "\n",
      "[1, 0, 0, 1, 0, 0, 1, 1, 0, 1] \n",
      "\n",
      "Truth labels: \n",
      "\n",
      "[1, 0, 0, 0, 0, 0, 1, 0, 0, 0]\n"
     ]
    }
   ],
   "source": [
    "predictions = []\n",
    "for i in probabilities:\n",
    "    max_index =np.where(i == np.max(i))[0][0]\n",
    "    predictions.append(max_index)\n",
    "    \n",
    "test_vals = []\n",
    "for i in test_labels:\n",
    "    max_index =np.where(i == np.max(i))[0][0]\n",
    "    test_vals.append(max_index)\n",
    "    \n",
    "#accuracy\n",
    "acc = 0\n",
    "for i in range(len(probabilities)):\n",
    "    if test_vals[i]==predictions[i]:\n",
    "        acc+=1\n",
    "    else:\n",
    "        pass\n",
    "acc/=len(test_vals)\n",
    "\n",
    "true_val = probabilities\n",
    "\n",
    "print('Probabilities: \\n')\n",
    "print('Accuracy:{} \\n'.format(acc))\n",
    "for i in range(10):\n",
    "    print(probabilities[i], '\\n')\n",
    "print('Predictions: \\n')\n",
    "print(predictions[:10], '\\n')\n",
    "print('Truth labels: \\n')\n",
    "print(test_vals[:10])"
   ]
  },
  {
   "cell_type": "code",
   "execution_count": 9,
   "metadata": {},
   "outputs": [
    {
     "data": {
      "text/plain": [
       "Text(0, 0.5, 'Count')"
      ]
     },
     "execution_count": 9,
     "metadata": {},
     "output_type": "execute_result"
    },
    {
     "data": {
      "image/png": "[encoded data removed]",
      "text/plain": [
       "<Figure size 864x432 with 1 Axes>"
      ]
     },
     "metadata": {
      "needs_background": "light"
     },
     "output_type": "display_data"
    }
   ],
   "source": [
    "plt.figure(figsize=(12,6))\n",
    "plt.hist(test_vals)\n",
    "x = [0.05, 0.95]\n",
    "class_names = ['Genie', 'Gibuu']\n",
    "plt.xticks(x, class_names)\n",
    "plt.title('MC Truth Classes')\n",
    "plt.ylabel('Count')"
   ]
  },
  {
   "cell_type": "code",
   "execution_count": 10,
   "metadata": {},
   "outputs": [
    {
     "data": {
      "text/plain": [
       "Text(0, 0.5, 'Count')"
      ]
     },
     "execution_count": 10,
     "metadata": {},
     "output_type": "execute_result"
    },
    {
     "data": {
      "image/png": "[encoded data removed]",
      "text/plain": [
       "<Figure size 864x432 with 1 Axes>"
      ]
     },
     "metadata": {
      "needs_background": "light"
     },
     "output_type": "display_data"
    }
   ],
   "source": [
    "plt.figure(figsize=(12,6))\n",
    "plt.hist(predictions)\n",
    "plt.xticks(x, class_names)\n",
    "plt.title('Predicited Classes')\n",
    "plt.ylabel('Count')"
   ]
  }
 ],
 "metadata": {
  "kernelspec": {
   "display_name": "Python 3",
   "language": "python",
   "name": "python3"
  },
  "language_info": {
   "codemirror_mode": {
    "name": "ipython",
    "version": 3
   },
   "file_extension": ".py",
   "mimetype": "text/x-python",
   "name": "python",
   "nbconvert_exporter": "python",
   "pygments_lexer": "ipython3",
   "version": "3.7.3"
  }
 },
 "nbformat": 4,
 "nbformat_minor": 4
}
