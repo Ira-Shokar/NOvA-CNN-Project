{
 "cells": [
  {
   "cell_type": "code",
   "execution_count": 1,
   "metadata": {},
   "outputs": [
    {
     "name": "stderr",
     "output_type": "stream",
     "text": [
      "Using TensorFlow backend.\n"
     ]
    }
   ],
   "source": [
    "from functions import *\n",
    "from methods import *\n",
    "import seaborn as sns\n",
    "import matplotlib.pyplot as plt"
   ]
  },
  {
   "cell_type": "code",
   "execution_count": 3,
   "metadata": {},
   "outputs": [
    {
     "data": {
      "text/plain": [
       "\"with open(path + 'history_32_Mom.pkl','rb') as f1:\\n    history = pkl.load(f1)\""
      ]
     },
     "execution_count": 3,
     "metadata": {},
     "output_type": "execute_result"
    }
   ],
   "source": [
    "path = '/Users/irashokar/documents/NOvA/files/'\n",
    "'''with open(path + 'history_32_Mom.pkl','rb') as f1:\n",
    "    history = pkl.load(f1)'''"
   ]
  },
  {
   "cell_type": "code",
   "execution_count": null,
   "metadata": {},
   "outputs": [],
   "source": [
    "plt.figure(figsize=(12,6))\n",
    "plt.plot(history.history['accuracy'])\n",
    "plt.plot(history.history['val_accuracy'])\n",
    "plt.title('model accuracy gibuu sgd')\n",
    "plt.ylabel('accuracy')\n",
    "plt.xlabel('epoch')\n",
    "plt.legend(['acc', 'val acc'], loc='lower left')\n",
    "plt.ylim(0.4,0.9)\n",
    "plt.show()"
   ]
  },
  {
   "cell_type": "code",
   "execution_count": null,
   "metadata": {},
   "outputs": [],
   "source": [
    "plt.figure(figsize=(12,6))\n",
    "plt.plot(history.history['loss'])\n",
    "plt.plot(history.history['val_loss'])\n",
    "plt.title('model loss gibuu sgd')\n",
    "plt.ylabel('loss')\n",
    "plt.xlabel('epoch')\n",
    "plt.legend(['loss', 'val loss'], loc='lower left')\n",
    "plt.ylim(0.3,1.4)\n",
    "plt.show()"
   ]
  },
  {
   "cell_type": "code",
   "execution_count": 4,
   "metadata": {},
   "outputs": [
    {
     "name": "stdout",
     "output_type": "stream",
     "text": [
      "332704\n",
      "332736\n"
     ]
    }
   ],
   "source": [
    "with open(path+ 'gibuu_mom_probabilities_weights_32_Mom.pkl','rb') as f2:\n",
    "    probabilities = pkl.load(f2)\n",
    "print(len(probabilities))\n",
    "with open(path+ 'gibuu_mom_test_labels_list_weights_32_Mom.pkl','rb') as f3:\n",
    "    test_labels = pkl.load(f3)\n",
    "print(len(test_labels))\n",
    "with open(path+ 'gibuu_mom_test_weights_list_weights_32_Mom.pkl','rb') as f4:\n",
    "    gibuu_weights = pkl.load(f4)"
   ]
  },
  {
   "cell_type": "code",
   "execution_count": null,
   "metadata": {},
   "outputs": [],
   "source": [
    "test_labels"
   ]
  },
  {
   "cell_type": "code",
   "execution_count": 5,
   "metadata": {},
   "outputs": [
    {
     "data": {
      "text/plain": [
       "\"#accuracy\\nacc = 0\\nfor i in range(len(probabilities)):\\n    if test_vals[i]==predictions[i]:\\n        acc+=1\\n    else:\\n        pass\\nacc/=len(test_vals)\\n\\ntrue_val = probabilities\\n\\nprint('Probabilities: \\n')\\nprint('Accuracy:{} \\n'.format(acc))\\nfor i in range(10):\\n    print(probabilities[i], '\\n')\\nprint('Predictions: \\n')\\nprint(predictions[:10], '\\n')\\nprint('Truth labels: \\n')\\nprint(test_vals[:10])\""
      ]
     },
     "execution_count": 5,
     "metadata": {},
     "output_type": "execute_result"
    }
   ],
   "source": [
    "predictions = []\n",
    "for i in probabilities:\n",
    "    max_index =np.where(i == np.max(i))[0][0]\n",
    "    predictions.append(max_index)\n",
    "    \n",
    "test_vals = []\n",
    "for i in test_labels:\n",
    "    max_index =np.where(i == np.max(i))[0][0]\n",
    "    test_vals.append(max_index)\n",
    "    \n",
    "'''#accuracy\n",
    "acc = 0\n",
    "for i in range(len(probabilities)):\n",
    "    if test_vals[i]==predictions[i]:\n",
    "        acc+=1\n",
    "    else:\n",
    "        pass\n",
    "acc/=len(test_vals)\n",
    "\n",
    "true_val = probabilities\n",
    "\n",
    "print('Probabilities: \\n')\n",
    "print('Accuracy:{} \\n'.format(acc))\n",
    "for i in range(10):\n",
    "    print(probabilities[i], '\\n')\n",
    "print('Predictions: \\n')\n",
    "print(predictions[:10], '\\n')\n",
    "print('Truth labels: \\n')\n",
    "print(test_vals[:10])'''"
   ]
  },
  {
   "cell_type": "code",
   "execution_count": null,
   "metadata": {},
   "outputs": [],
   "source": [
    "plt.figure(figsize=(12,6))\n",
    "plt.hist(test_vals)\n",
    "x = [0.1, 1.1, 1.9]\n",
    "class_names = ['NC', 'Nu E', 'Nu MU']\n",
    "plt.xticks(x, class_names)\n",
    "plt.ylabel('Count')"
   ]
  },
  {
   "cell_type": "code",
   "execution_count": 6,
   "metadata": {},
   "outputs": [
    {
     "data": {
      "text/plain": [
       "[(0, 1)]"
      ]
     },
     "execution_count": 6,
     "metadata": {},
     "output_type": "execute_result"
    },
    {
     "data": {
      "image/png": "[encoded data removed]",
      "text/plain": [
       "<Figure size 864x432 with 1 Axes>"
      ]
     },
     "metadata": {
      "needs_background": "light"
     },
     "output_type": "display_data"
    }
   ],
   "source": [
    "mu_e = []\n",
    "nc = []\n",
    "nu_mu = []\n",
    "for i in range(len(probabilities)):\n",
    "    if test_vals[i] ==0:\n",
    "        nc.append(probabilities[i,2])\n",
    "    elif test_vals[i] ==1:\n",
    "        mu_e.append(probabilities[i,2])\n",
    "    elif test_vals[i] ==2:\n",
    "        nu_mu.append(probabilities[i,2])\n",
    "        \n",
    "plt.figure(figsize=(12,6))\n",
    "g = sns.distplot(nc, bins = 100, kde=False)\n",
    "g = sns.distplot(mu_e, bins = 100, kde=False)\n",
    "g = sns.distplot(nu_mu, bins = 100, kde=False)\n",
    "plt.legend(['nc', 'nu_e','nu_mu'], loc='upper right')\n",
    "plt.legend(['nu_mu', 'nc', 'nu_e'], loc='upper right')\n",
    "plt.xlabel('Nu Mu classifer Output')\n",
    "plt.ylabel('Number of events')\n",
    "plt.title('SGD gibuu')\n",
    "g.set(ylim=(0,42000))\n",
    "g.set(xlim=(0,1))"
   ]
  },
  {
   "cell_type": "code",
   "execution_count": null,
   "metadata": {},
   "outputs": [],
   "source": [
    "mu_e = []\n",
    "nc = []\n",
    "nu_mu = []\n",
    "for i in range(len(probabilities)):\n",
    "    if test_vals[i] ==0:\n",
    "        nc.append(probabilities[i,1])\n",
    "    elif test_vals[i] ==1:\n",
    "        mu_e.append(probabilities[i,1])\n",
    "    elif test_vals[i] ==2:\n",
    "        nu_mu.append(probabilities[i,1])\n",
    "        \n",
    "plt.figure(figsize=(12,6))\n",
    "g = sns.distplot(nc, bins = 100, kde=False)\n",
    "g = sns.distplot(mu_e, bins = 100, kde=False)\n",
    "g = sns.distplot(nu_mu, bins = 100, kde=False)\n",
    "plt.legend(['nc', 'nu_e','nu_mu'], loc='upper right')\n",
    "plt.xlabel('Nu E classifer Output')\n",
    "plt.ylabel('Number of events')\n",
    "plt.title('SGD gibuu')\n",
    "g.set(ylim=(0,10000))\n",
    "g.set(xlim=(0,1))"
   ]
  },
  {
   "cell_type": "code",
   "execution_count": 8,
   "metadata": {},
   "outputs": [],
   "source": [
    "purity_list = []\n",
    "efficiency_list = []\n",
    "p_x_e_list = []\n",
    "\n",
    "gibuu_weights=[float(i) for i in gibuu_weights]\n",
    " \n",
    "for j in np.arange(0, 0.99, 0.01):\n",
    "    nu_mu_above = []\n",
    "    nu_mu_below = []\n",
    "    nc_above = []\n",
    "    nc_below = []\n",
    "    nu_e_above = []\n",
    "    nu_e_below = []\n",
    "    for i in range(len(probabilities)):\n",
    "        if test_vals[i] ==2:\n",
    "            if probabilities[i,2]>=j:\n",
    "                nu_mu_above.append(probabilities[i,2]*gibuu_weights[i])\n",
    "            elif probabilities[i,2]<=j:\n",
    "                nu_mu_below.append(probabilities[i,2]*gibuu_weights[i])\n",
    "                \n",
    "        elif test_vals[i] ==0:         \n",
    "            if probabilities[i,2]>=j:\n",
    "                nc_above.append(probabilities[i,2]*gibuu_weights[i])\n",
    "            elif probabilities[i,2]<=j:\n",
    "                nc_below.append(probabilities[i,2]*gibuu_weights[i])\n",
    "                \n",
    "        elif test_vals[i] ==1:        \n",
    "            if probabilities[i,2]>=j:\n",
    "                nu_e_above.append(probabilities[i,2]*gibuu_weights[i])\n",
    "            elif probabilities[i,2]<=j:\n",
    "                nu_e_below.append(probabilities[i,2]*gibuu_weights[i])\n",
    "                \n",
    "        \n",
    "                \n",
    "    purity = len(nu_mu_above)/(len(nc_above)+len(nu_mu_above)+len(nu_e_above))\n",
    "    purity_list.append(purity)\n",
    "\n",
    "    efficiency = len(nu_mu_above)/(len(nu_mu_above)+len(nu_mu_below))\n",
    "    efficiency_list.append(efficiency)\n",
    "\n",
    "    p_x_e_list.append(purity*efficiency)\n",
    "    \n"
   ]
  },
  {
   "cell_type": "code",
   "execution_count": 9,
   "metadata": {},
   "outputs": [
    {
     "data": {
      "text/plain": [
       "<matplotlib.legend.Legend at 0x1a3ba9e470>"
      ]
     },
     "execution_count": 9,
     "metadata": {},
     "output_type": "execute_result"
    },
    {
     "data": {
      "image/png": "[encoded data removed]",
      "text/plain": [
       "<Figure size 864x432 with 1 Axes>"
      ]
     },
     "metadata": {
      "needs_background": "light"
     },
     "output_type": "display_data"
    }
   ],
   "source": [
    "plt.figure(figsize=(12,6))\n",
    "plt.plot(purity_list)\n",
    "plt.plot(efficiency_list)\n",
    "plt.plot(p_x_e_list)\n",
    "plt.xlabel('Nu Mu classifer Output')\n",
    "plt.ylabel('Percentage')\n",
    "plt.title('SGD - Gibuu')\n",
    "plt.legend(['Purity', 'Efficiency', 'Purity* Efficiency'], loc='lower left')"
   ]
  },
  {
   "cell_type": "code",
   "execution_count": 11,
   "metadata": {},
   "outputs": [],
   "source": [
    "purity_list = []\n",
    "efficiency_list = []\n",
    "p_x_e_list = []\n",
    " \n",
    "for j in np.arange(0, 0.9, 0.01):\n",
    "    nu_mu_above = []\n",
    "    nu_mu_below = []\n",
    "    nc_above = []\n",
    "    nc_below = []\n",
    "    nu_e_above = []\n",
    "    nu_e_below = []\n",
    "    for i in range(len(probabilities)):\n",
    "        if test_vals[i] ==2:\n",
    "            if probabilities[i,1]>=j:\n",
    "                nu_mu_above.append(probabilities[i,1]*gibuu_weights[i])\n",
    "            elif probabilities[i,1]<=j:\n",
    "                nu_mu_below.append(probabilities[i,1]*gibuu_weights[i])\n",
    "            \n",
    "                \n",
    "        elif test_vals[i] ==0:         \n",
    "            if probabilities[i,1]>=j:\n",
    "                nc_above.append(probabilities[i,1]*gibuu_weights[i])\n",
    "            elif probabilities[i,1]<=j:\n",
    "                nc_below.append(probabilities[i,1]*gibuu_weights[i])\n",
    "            \n",
    "                \n",
    "        elif test_vals[i] ==1:        \n",
    "            if probabilities[i,1]>=j:\n",
    "                nu_e_above.append(probabilities[i,1]*gibuu_weights[i])\n",
    "            elif probabilities[i,1]<=j:\n",
    "                nu_e_below.append(probabilities[i,1]*gibuu_weights[i])\n",
    "                \n",
    "        \n",
    "                \n",
    "    purity = len(nu_e_above)/(len(nc_above)+len(nu_mu_above)+len(nu_e_above))\n",
    "    purity_list.append(purity)\n",
    "\n",
    "    efficiency = len(nu_e_above)/(len(nu_e_above)+len(nu_e_below))\n",
    "    efficiency_list.append(efficiency)\n",
    "\n",
    "    p_x_e_list.append(purity*efficiency)\n",
    "    "
   ]
  },
  {
   "cell_type": "code",
   "execution_count": null,
   "metadata": {},
   "outputs": [],
   "source": [
    "plt.figure(figsize=(12,6))\n",
    "plt.plot(purity_list)\n",
    "plt.plot(efficiency_list)\n",
    "plt.plot(p_x_e_list)\n",
    "plt.xlabel('Nu E classifer Output')\n",
    "plt.ylabel('Percentage')\n",
    "plt.title('SGD - Gibuu')\n",
    "plt.legend(['Purity', 'Efficiency', 'Purity* Efficiency'], loc='lower left')"
   ]
  },
  {
   "cell_type": "code",
   "execution_count": null,
   "metadata": {},
   "outputs": [],
   "source": []
  }
 ],
 "metadata": {
  "kernelspec": {
   "display_name": "Python 3",
   "language": "python",
   "name": "python3"
  },
  "language_info": {
   "codemirror_mode": {
    "name": "ipython",
    "version": 3
   },
   "file_extension": ".py",
   "mimetype": "text/x-python",
   "name": "python",
   "nbconvert_exporter": "python",
   "pygments_lexer": "ipython3",
   "version": "3.7.3"
  }
 },
 "nbformat": 4,
 "nbformat_minor": 4
}
